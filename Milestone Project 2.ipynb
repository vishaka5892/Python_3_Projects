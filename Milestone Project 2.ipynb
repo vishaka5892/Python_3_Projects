{
 "cells": [
  {
   "cell_type": "markdown",
   "metadata": {},
   "source": [
    "## Imports and Global Variables\n",
    "# Step 1: Import the random module. \n",
    "This will be used to shuffle the deck prior to dealing. Then, declare variables to store suits, ranks and values. You can develop your own system, or copy ours below. Finally, declare a Boolean value to be used to control while loops. This is a common practice used to control the flow of the game.\n",
    "\n",
    "suits = ('Hearts', 'Diamonds', 'Spades', 'Clubs')\n",
    "ranks = ('Two', 'Three', 'Four', 'Five', 'Six', 'Seven', 'Eight', 'Nine', 'Ten', 'Jack', 'Queen', 'King', 'Ace')\n",
    "values = {'Two':2, 'Three':3, 'Four':4, 'Five':5, 'Six':6, 'Seven':7, 'Eight':8, 'Nine':9, 'Ten':10, 'Jack':10,\n",
    "         'Queen':10, 'King':10, 'Ace':11}"
   ]
  },
  {
   "cell_type": "code",
   "execution_count": 30,
   "metadata": {},
   "outputs": [],
   "source": [
    "import random\n",
    "\n",
    "suits = ('Hearts','Diamonds','Spades','Clubs')\n",
    "ranks = ('Two', 'Three', 'Four', 'Five', 'Six', 'Seven', 'Eight', 'Nine', 'Ten', 'Jack', 'Queen', 'King', 'Ace')\n",
    "values = {'Two':2, 'Three':3, 'Four':4, 'Five':5, 'Six':6, 'Seven':7, 'Eight':8, 'Nine':9, 'Ten':10, 'Jack':10,'Queen':10,'King':10,'Ace':11}\n",
    "\n",
    "playing = True"
   ]
  },
  {
   "cell_type": "markdown",
   "metadata": {},
   "source": [
    "# Class Definitions\n",
    "Consider making a Card class where each Card object has a suit and a rank, then a Deck class to hold all 52 Card objects, and can be shuffled, and finally a Hand class that holds those Cards that have been dealt to each player from the Deck.\n",
    "\n",
    "## Step 2: Create a Card Class\n",
    "A Card object really only needs two attributes: suit and rank. You might add an attribute for \"value\" - we chose to handle value later when developing our Hand class.\n",
    "In addition to the Card's __init__ method, consider adding a __str__ method that, when asked to print a Card, returns a string in the form \"Two of Hearts\""
   ]
  },
  {
   "cell_type": "code",
   "execution_count": 31,
   "metadata": {},
   "outputs": [],
   "source": [
    "class Card:\n",
    "    def __init__(self,suit,rank):#,value):\n",
    "        self.suit = suit\n",
    "        self.rank = rank\n",
    "       # self.value = value\n",
    "        \n",
    "    def __str__(self):\n",
    "        return f\"{self.rank} of {self.suit} \""
   ]
  },
  {
   "cell_type": "markdown",
   "metadata": {},
   "source": [
    "# Step 3: Create a Deck Class\n",
    "Here we might store 52 card objects in a list that can later be shuffled. First, though, we need to instantiate all 52 unique card objects and add them to our list. So long as the Card class definition appears in our code, we can build Card objects inside our Deck __init__ method. Consider iterating over sequences of suits and ranks to build out each card. This might appear inside a Deck class __init__ method:\n",
    "\n",
    "for suit in suits:\n",
    "    for rank in ranks:\n",
    "\n",
    "In addition to an __init__ method we'll want to add methods to shuffle our deck, and to deal out cards during gameplay.\n",
    "\n",
    "OPTIONAL: We may never need to print the contents of the deck during gameplay, but having the ability to see the cards inside it may help troubleshoot any problems that occur during development. With this in mind, consider adding a __str__ method to the class definition."
   ]
  },
  {
   "cell_type": "code",
   "execution_count": 32,
   "metadata": {},
   "outputs": [],
   "source": [
    "class Deck:\n",
    "    \n",
    "    def __init__(self):\n",
    "        self.deck = []  # start with an empty list\n",
    "        for suit in suits:\n",
    "            for rank in ranks:\n",
    "                self.deck.append(Card(suit,rank))\n",
    "    def __str__(self):\n",
    "        deck_contents = ''  # start with an empty string\n",
    "        for card in self.deck:\n",
    "            deck_contents += '\\n '+ card.__str__() # add each Card object's print string\n",
    "        return 'The deck has:' + deck_contents\n",
    "\n",
    "    def shuffle(self):\n",
    "        random.shuffle(self.deck)\n",
    "        \n",
    "    def deal(self):\n",
    "        card_dealt = self.deck.pop()\n",
    "        return card_dealt"
   ]
  },
  {
   "cell_type": "markdown",
   "metadata": {},
   "source": [
    "TESTING: Just to see that everything works so far, let's see what our Deck looks like!"
   ]
  },
  {
   "cell_type": "code",
   "execution_count": 33,
   "metadata": {},
   "outputs": [
    {
     "name": "stdout",
     "output_type": "stream",
     "text": [
      "The deck has:\n",
      " Two of Hearts \n",
      " Three of Hearts \n",
      " Four of Hearts \n",
      " Five of Hearts \n",
      " Six of Hearts \n",
      " Seven of Hearts \n",
      " Eight of Hearts \n",
      " Nine of Hearts \n",
      " Ten of Hearts \n",
      " Jack of Hearts \n",
      " Queen of Hearts \n",
      " King of Hearts \n",
      " Ace of Hearts \n",
      " Two of Diamonds \n",
      " Three of Diamonds \n",
      " Four of Diamonds \n",
      " Five of Diamonds \n",
      " Six of Diamonds \n",
      " Seven of Diamonds \n",
      " Eight of Diamonds \n",
      " Nine of Diamonds \n",
      " Ten of Diamonds \n",
      " Jack of Diamonds \n",
      " Queen of Diamonds \n",
      " King of Diamonds \n",
      " Ace of Diamonds \n",
      " Two of Spades \n",
      " Three of Spades \n",
      " Four of Spades \n",
      " Five of Spades \n",
      " Six of Spades \n",
      " Seven of Spades \n",
      " Eight of Spades \n",
      " Nine of Spades \n",
      " Ten of Spades \n",
      " Jack of Spades \n",
      " Queen of Spades \n",
      " King of Spades \n",
      " Ace of Spades \n",
      " Two of Clubs \n",
      " Three of Clubs \n",
      " Four of Clubs \n",
      " Five of Clubs \n",
      " Six of Clubs \n",
      " Seven of Clubs \n",
      " Eight of Clubs \n",
      " Nine of Clubs \n",
      " Ten of Clubs \n",
      " Jack of Clubs \n",
      " Queen of Clubs \n",
      " King of Clubs \n",
      " Ace of Clubs \n"
     ]
    }
   ],
   "source": [
    "test_deck = Deck()\n",
    "print(test_deck)"
   ]
  },
  {
   "cell_type": "markdown",
   "metadata": {},
   "source": [
    "# Step 4: Create a Hand Class\n",
    "In addition to holding Card objects dealt from the Deck, the Hand class may be used to calculate the value of those cards using the values dictionary defined above. It may also need to adjust for the value of Aces when appropriate."
   ]
  },
  {
   "cell_type": "code",
   "execution_count": 34,
   "metadata": {},
   "outputs": [],
   "source": [
    "class Hand:\n",
    "    \n",
    "    def __init__(self):\n",
    "        self.cards = []\n",
    "        self.value = 0\n",
    "        self.aces = 0\n",
    "    \n",
    "    def add_card(self,card):\n",
    "        self.cards.append(card)\n",
    "        self.value += values[card.rank]\n",
    "    \n",
    "    def adjust_for_aces(self):\n",
    "        pass\n",
    "    "
   ]
  },
  {
   "cell_type": "markdown",
   "metadata": {},
   "source": [
    "TESTING: Before we tackle the issue of changing Aces, let's make sure we can add two cards to a player's hand and obtain their value:"
   ]
  },
  {
   "cell_type": "code",
   "execution_count": 35,
   "metadata": {},
   "outputs": [
    {
     "data": {
      "text/plain": [
       "18"
      ]
     },
     "execution_count": 35,
     "metadata": {},
     "output_type": "execute_result"
    }
   ],
   "source": [
    "test_deck = Deck()\n",
    "test_deck.shuffle()\n",
    "test_player = Hand()\n",
    "test_player.add_card(test_deck.deal())\n",
    "test_player.add_card(test_deck.deal())\n",
    "test_player.value"
   ]
  },
  {
   "cell_type": "code",
   "execution_count": 36,
   "metadata": {},
   "outputs": [
    {
     "name": "stdout",
     "output_type": "stream",
     "text": [
      "Ten of Diamonds \n",
      "Eight of Spades \n"
     ]
    }
   ],
   "source": [
    "for card in test_player.cards:\n",
    "    print(card)"
   ]
  },
  {
   "cell_type": "code",
   "execution_count": 37,
   "metadata": {},
   "outputs": [],
   "source": [
    "class Hand:\n",
    "    \n",
    "    def __init__(self):\n",
    "        self.cards = []\n",
    "        self.value = 0\n",
    "        self.aces = 0\n",
    "    \n",
    "    def add_card(self,card):\n",
    "        self.cards.append(card)\n",
    "        self.value += values[card.rank]\n",
    "        if card.rank == 'Ace':\n",
    "            self.aces += 1      \n",
    "    \n",
    "    def adjust_for_aces(self):\n",
    "        while self.value > 21 and self.aces:\n",
    "            self.value -= 10\n",
    "            self.aces -= 1"
   ]
  },
  {
   "cell_type": "markdown",
   "metadata": {},
   "source": [
    "We added code to the add_card method to bump self.aces whenever an ace is brought into the hand, and added code to the adjust_for_aces method that decreases the number of aces any time we make an adjustment to stay under 21."
   ]
  },
  {
   "cell_type": "markdown",
   "metadata": {},
   "source": [
    "# Step 5: Create a Chips Class\n",
    "In addition to decks of cards and hands, we need to keep track of a Player's starting chips, bets, and ongoing winnings. This could be done using global variables, but in the spirit of object oriented programming, let's make a Chips class instead!"
   ]
  },
  {
   "cell_type": "code",
   "execution_count": 38,
   "metadata": {},
   "outputs": [],
   "source": [
    "class Chips:\n",
    "    \n",
    "    def __init__(self):\n",
    "        self.total = int(input('Provide a total '))\n",
    "        self.bets = 0\n",
    "        \n",
    "    def win_bets(self):\n",
    "        self.total += self.bets\n",
    "\n",
    "    def lose_bets(self):\n",
    "        self.total -= self.bets"
   ]
  },
  {
   "cell_type": "markdown",
   "metadata": {},
   "source": [
    "# Function Defintions\n",
    "A lot of steps are going to be repetitive. That's where functions come in! The following steps are guidelines - add or remove functions as needed in your own program.\n",
    "\n",
    "# Step 6: Write a function for taking bets\n",
    "Since we're asking the user for an integer value, this would be a good place to use try/except. Remember to check that a Player's bet can be covered by their available chips."
   ]
  },
  {
   "cell_type": "code",
   "execution_count": 39,
   "metadata": {},
   "outputs": [],
   "source": [
    "def taking_bets(chips):\n",
    "    while True:\n",
    "        try:\n",
    "            chips.bet = int(input('Please enter the number of chips you want to bet '))\n",
    "        except TypeError:\n",
    "            print(\"The bet must be a number \")\n",
    "        else:\n",
    "            if chips.bet > chips.total:\n",
    "                print(\"Sorry! You cannot exceed the total you have \", chips.total)\n",
    "            else:\n",
    "                break\n",
    "        finally:\n",
    "            print(\"Thank you for placing the bet \")"
   ]
  },
  {
   "cell_type": "markdown",
   "metadata": {},
   "source": [
    "# Step 7: Write a function for taking hits\n",
    "Either player can take hits until they bust. This function will be called during gameplay anytime a Player requests a hit, or a Dealer's hand is less than 17. It should take in Deck and Hand objects as arguments, and deal one card off the deck and add it to the Hand. You may want it to check for aces in the event that a player's hand exceeds 21."
   ]
  },
  {
   "cell_type": "code",
   "execution_count": 40,
   "metadata": {},
   "outputs": [],
   "source": [
    "def taking_hits(deck,hand):\n",
    "    hand.add_card(deck.deal())\n",
    "    hand.adjust_for_aces()"
   ]
  },
  {
   "cell_type": "markdown",
   "metadata": {},
   "source": [
    "# Step 8: Write a function prompting the Player to Hit or Stand\n",
    "This function should accept the deck and the player's hand as arguments, and assign playing as a global variable.\n",
    "If the Player Hits, employ the hit() function above. If the Player Stands, set the playing variable to False - this will control the behavior of a while loop later on in our code."
   ]
  },
  {
   "cell_type": "code",
   "execution_count": 41,
   "metadata": {},
   "outputs": [],
   "source": [
    "def hit_or_stand(deck,hand):\n",
    "    global playing\n",
    "    \n",
    "    while True:\n",
    "        player_resp = input(\"Please choose to hit or stand. Enter 'h' or 's' \")\n",
    "        \n",
    "        if player_resp.lower() == 'h':\n",
    "            taking_hits(deck,hand)\n",
    "        \n",
    "        elif player_resp.lower() == 's':\n",
    "            print(\"Dealer's turn. Player stands.\")\n",
    "            playing = False\n",
    "        else:\n",
    "            print(\"Sorry! Try again \")\n",
    "            continue\n",
    "        break"
   ]
  },
  {
   "cell_type": "markdown",
   "metadata": {},
   "source": [
    "# Step 9: Write functions to display cards\n",
    "When the game starts, and after each time Player takes a card, the dealer's first card is hidden and all of Player's cards are visible. At the end of the hand all cards are shown, and you may want to show each hand's total value. Write a function for each of these scenarios."
   ]
  },
  {
   "cell_type": "code",
   "execution_count": 46,
   "metadata": {},
   "outputs": [],
   "source": [
    "def display_some_cards(player,dealer):\n",
    "    print(\" <card hidden>\")\n",
    "    print('',dealer.cards[1])  \n",
    "    print(\"\\nPlayer's Hand:\", *player.cards, sep='\\n ')\n",
    "    \n",
    "def display_all_cards(player,dealer):\n",
    "    print(\"\\nDealer's Hand:\", *dealer.cards, sep='\\n ')\n",
    "    print(\"Dealer's Hand =\",dealer.value)\n",
    "    print(\"\\nPlayer's Hand:\", *player.cards, sep='\\n ')\n",
    "    print(\"Player's Hand =\",player.value)"
   ]
  },
  {
   "cell_type": "markdown",
   "metadata": {},
   "source": [
    "QUICK NOTES ABOUT PRINT STATEMENTS:\n",
    "\n",
    "The asterisk * symbol is used to print every item in a collection, and the sep='\\n ' argument prints each item on a separate line.\n",
    "\n",
    "In the fourth line where we have\n",
    "\n",
    "print('',dealer.cards[1])\n",
    "\n",
    "the empty string and comma are there just to add a space.\n",
    "\n",
    "Here we used commas to separate the objects being printed in each line. If you want to concatenate strings using the + symbol, then you have to call each Card object's __ str __ method explicitly, as with\n",
    "\n",
    "print(' ' + dealer.cards[1].__ str __())"
   ]
  },
  {
   "cell_type": "markdown",
   "metadata": {},
   "source": [
    "# Step 10: Write functions to handle end of game scenarios\n",
    "Remember to pass player's hand, dealer's hand and chips as needed."
   ]
  },
  {
   "cell_type": "code",
   "execution_count": 47,
   "metadata": {},
   "outputs": [],
   "source": [
    "def player_busts(player,dealer,chips):\n",
    "    print(\"Player busts \")\n",
    "    chips.lose_bets()\n",
    "\n",
    "def player_wins(player,dealer,chips):\n",
    "    print(\"Player wins \")\n",
    "    chips.win_bets()\n",
    "\n",
    "def dealer_busts(player,dealer,chips):\n",
    "    print(\"Dealer busts \")\n",
    "    chips.win_bets()\n",
    "    \n",
    "def dealer_wins(player,dealer,chips):\n",
    "    print(\"Dealer wins \")\n",
    "    chips.lose_bets()\n",
    "    \n",
    "def push(player,dealer):\n",
    "    print(\"Dealer and Player tie! PUSH \")"
   ]
  },
  {
   "cell_type": "markdown",
   "metadata": {},
   "source": [
    "The complete game code"
   ]
  },
  {
   "cell_type": "code",
   "execution_count": 52,
   "metadata": {},
   "outputs": [
    {
     "name": "stdout",
     "output_type": "stream",
     "text": [
      "Welcome to the Black Jack Game!! You win, you lose, but it's 21 always !! \n",
      "Provide a total 1000\n",
      "Please enter the number of chips you want to bet 100\n",
      "Thank you for placing the bet \n",
      " <card hidden>\n",
      " Ace of Spades \n",
      "\n",
      "Player's Hand:\n",
      " King of Spades \n",
      " Seven of Diamonds \n",
      "Please choose to hit or stand. Enter 'h' or 's' s\n",
      "Dealer's turn. Player stands.\n",
      "Please choose to hit or stand. Enter 'h' or 's' h\n",
      "Please choose to hit or stand. Enter 'h' or 's' h\n",
      "\n",
      "Dealer's Hand:\n",
      " Five of Hearts \n",
      " Ace of Spades \n",
      " Eight of Diamonds \n",
      " Jack of Clubs \n",
      "Dealer's Hand = 24\n",
      "\n",
      "Player's Hand:\n",
      " King of Spades \n",
      " Seven of Diamonds \n",
      "Player's Hand = 17\n",
      "Dealer busts \n",
      "Player has a total of 1000 with them !! \n",
      " \n",
      "Do you want to play again? Enter 'y' or 'n' y\n",
      "Welcome to the Black Jack Game!! You win, you lose, but it's 21 always !! \n",
      "Provide a total 1000\n",
      "Please enter the number of chips you want to bet 100\n",
      "Thank you for placing the bet \n",
      " <card hidden>\n",
      " Six of Hearts \n",
      "\n",
      "Player's Hand:\n",
      " Five of Hearts \n",
      " King of Spades \n",
      "Please choose to hit or stand. Enter 'h' or 's' h\n",
      " <card hidden>\n",
      " Six of Hearts \n",
      "\n",
      "Player's Hand:\n",
      " Five of Hearts \n",
      " King of Spades \n",
      " Ten of Clubs \n",
      "Player busts \n",
      "Please choose to hit or stand. Enter 'h' or 's' s\n",
      "Dealer's turn. Player stands.\n",
      "Please choose to hit or stand. Enter 'h' or 's' h\n",
      "Please choose to hit or stand. Enter 'h' or 's' h\n",
      "\n",
      "Dealer's Hand:\n",
      " Five of Spades \n",
      " Six of Hearts \n",
      " Five of Clubs \n",
      " Ten of Diamonds \n",
      "Dealer's Hand = 26\n",
      "\n",
      "Player's Hand:\n",
      " Five of Hearts \n",
      " King of Spades \n",
      " Ten of Clubs \n",
      "Player's Hand = 25\n",
      "Dealer busts \n",
      "Player has a total of 1000 with them !! \n",
      " \n",
      "Do you want to play again? Enter 'y' or 'n' n\n",
      "Thank you for your time! It was nice playing with you!! \n"
     ]
    }
   ],
   "source": [
    "while True:\n",
    "    # Print an opening statement\n",
    "    print(\"Welcome to the Black Jack Game!! You win, you lose, but it's 21 always !! \")\n",
    "    \n",
    "    # Create & shuffle the deck, deal two cards to each player\n",
    "    the_game_deck = Deck()\n",
    "    the_game_deck.shuffle()\n",
    "    player_main = Hand()\n",
    "    player_main.add_card(the_game_deck.deal())\n",
    "    player_main.add_card(the_game_deck.deal())\n",
    "   # the_game_deck.shuffle()\n",
    "    dealer_main = Hand()\n",
    "    dealer_main.add_card(the_game_deck.deal())\n",
    "    dealer_main.add_card(the_game_deck.deal())\n",
    "        \n",
    "    # Set up the Player's chips\n",
    "    player_chips = Chips()\n",
    "    \n",
    "    \n",
    "    # Prompt the Player for their bet\n",
    "    taking_bets(player_chips)\n",
    "    \n",
    "    # Show cards (but keep one dealer card hidden)\n",
    "    display_some_cards(player_main, dealer_main)\n",
    "    \n",
    "    while playing:  # recall this variable from our hit_or_stand function\n",
    "        \n",
    "        # Prompt for Player to Hit or Stand\n",
    "        hit_or_stand(the_game_deck,player_main)\n",
    "        \n",
    "        # Show cards (but keep one dealer card hidden)\n",
    "        display_some_cards(player_main, dealer_main)\n",
    "        \n",
    "        # If player's hand exceeds 21, run player_busts() and break out of loop\n",
    "        if player_main.value > 21:\n",
    "            player_busts(player_main, dealer_main, player_chips)\n",
    "            break\n",
    "\n",
    "    # If Player hasn't busted, play Dealer's hand until Dealer reaches 17\n",
    "    if dealer_main.value <= 21:\n",
    "        while dealer_main.value < 17:\n",
    "            hit_or_stand(the_game_deck, dealer_main)\n",
    "        # Show all cards\n",
    "        display_all_cards(player_main, dealer_main)\n",
    "        # Run different winning scenarios\n",
    "        if dealer_main.value > 21:\n",
    "            dealer_busts(player_main, dealer_main, player_chips)\n",
    "        \n",
    "        elif dealer_main.value > player_main.value:\n",
    "            player_busts(player_main, dealer_main, player_chips)\n",
    "        \n",
    "        elif dealer_main.value < player_main.value:\n",
    "            player_wins(player_main, dealer_main, player_chips)\n",
    "        \n",
    "        else:\n",
    "            push(player_main,dealer_main)\n",
    "    \n",
    "    # Inform Player of their chips total \n",
    "    print(\"Player has a total of {} with them !! \\n \".format(player_chips.total))\n",
    "    \n",
    "    # Ask to play again\n",
    "    play_again = input(\"Do you want to play again? Enter 'y' or 'n' \")\n",
    "    \n",
    "    if play_again[0].lower() == 'y':\n",
    "        playing = True\n",
    "        continue\n",
    "    else:\n",
    "        playing = False\n",
    "        print(\"Thank you for your time! It was nice playing with you!! \")\n",
    "        break\n"
   ]
  },
  {
   "cell_type": "code",
   "execution_count": null,
   "metadata": {},
   "outputs": [],
   "source": []
  }
 ],
 "metadata": {
  "kernelspec": {
   "display_name": "Python 3",
   "language": "python",
   "name": "python3"
  },
  "language_info": {
   "codemirror_mode": {
    "name": "ipython",
    "version": 3
   },
   "file_extension": ".py",
   "mimetype": "text/x-python",
   "name": "python",
   "nbconvert_exporter": "python",
   "pygments_lexer": "ipython3",
   "version": "3.7.4"
  }
 },
 "nbformat": 4,
 "nbformat_minor": 2
}
