{
 "cells": [
  {
   "cell_type": "code",
   "execution_count": 1,
   "metadata": {},
   "outputs": [],
   "source": [
    "import shutil"
   ]
  },
  {
   "cell_type": "code",
   "execution_count": 2,
   "metadata": {},
   "outputs": [
    {
     "data": {
      "text/plain": [
       "'C:\\\\Users\\\\Vishaka B\\\\vishaka'"
      ]
     },
     "execution_count": 2,
     "metadata": {},
     "output_type": "execute_result"
    }
   ],
   "source": [
    "pwd"
   ]
  },
  {
   "cell_type": "code",
   "execution_count": 5,
   "metadata": {},
   "outputs": [],
   "source": [
    "shutil.unpack_archive('C:\\\\Users\\\\Vishaka B\\\\vishaka\\\\Advanced Python Modules\\\\08-Advanced-Python-Module-Exercise\\\\unzip_me_for_instructions.zip','unzipped_ver','zip')"
   ]
  },
  {
   "cell_type": "code",
   "execution_count": 29,
   "metadata": {},
   "outputs": [],
   "source": [
    "import re"
   ]
  },
  {
   "cell_type": "code",
   "execution_count": 34,
   "metadata": {},
   "outputs": [],
   "source": [
    "def search(file,pattern=r'\\d{3}-\\d{3}-\\d{4}'):\n",
    "    f = open(file, 'r')\n",
    "    text = f.read()\n",
    "    \n",
    "    if re.search(pattern,text):\n",
    "        return re.search(pattern,text)\n",
    "    else:\n",
    "        return ''"
   ]
  },
  {
   "cell_type": "code",
   "execution_count": 6,
   "metadata": {},
   "outputs": [
    {
     "data": {
      "text/plain": [
       "'C:\\\\Users\\\\Vishaka B\\\\vishaka'"
      ]
     },
     "execution_count": 6,
     "metadata": {},
     "output_type": "execute_result"
    }
   ],
   "source": [
    "pwd"
   ]
  },
  {
   "cell_type": "code",
   "execution_count": 22,
   "metadata": {},
   "outputs": [],
   "source": [
    "import os"
   ]
  },
  {
   "cell_type": "code",
   "execution_count": 23,
   "metadata": {},
   "outputs": [],
   "source": []
  },
  {
   "cell_type": "code",
   "execution_count": 24,
   "metadata": {},
   "outputs": [
    {
     "data": {
      "text/plain": [
       "'C:\\\\Users\\\\Vishaka B\\\\vishaka'"
      ]
     },
     "execution_count": 24,
     "metadata": {},
     "output_type": "execute_result"
    }
   ],
   "source": [
    "os.getcwd()"
   ]
  },
  {
   "cell_type": "code",
   "execution_count": 14,
   "metadata": {},
   "outputs": [
    {
     "data": {
      "text/plain": [
       "['Five', 'Four', 'Instructions.txt', 'One', 'Three', 'Two']"
      ]
     },
     "execution_count": 14,
     "metadata": {},
     "output_type": "execute_result"
    }
   ],
   "source": [
    "os.listdir(\"C:\\\\Users\\\\Vishaka B\\\\vishaka\\\\Advanced Python Modules\\\\08-Advanced-Python-Module-Exercise\\\\extracted_content\")"
   ]
  },
  {
   "cell_type": "code",
   "execution_count": 15,
   "metadata": {},
   "outputs": [
    {
     "data": {
      "text/plain": [
       "'C:\\\\Users\\\\Vishaka B\\\\vishaka'"
      ]
     },
     "execution_count": 15,
     "metadata": {},
     "output_type": "execute_result"
    }
   ],
   "source": [
    "pwd"
   ]
  },
  {
   "cell_type": "code",
   "execution_count": 16,
   "metadata": {},
   "outputs": [
    {
     "data": {
      "text/plain": [
       "'C:\\\\Users\\\\Vishaka B\\\\vishaka'"
      ]
     },
     "execution_count": 16,
     "metadata": {},
     "output_type": "execute_result"
    }
   ],
   "source": [
    "os.getcwd()"
   ]
  },
  {
   "cell_type": "code",
   "execution_count": 17,
   "metadata": {},
   "outputs": [
    {
     "data": {
      "text/plain": [
       "[' Object Oriented Programming Challenge Solution.ipynb',\n",
       " '.ipynb_checkpoints',\n",
       " 'Advanced Python Modules',\n",
       " 'Advanced-Python-Module-Exercise.ipynb',\n",
       " 'Generators and Iterators Homework.ipynb',\n",
       " 'Milestone Project 1.ipynb',\n",
       " 'Milestone Project 2.ipynb',\n",
       " 'OOP_Homework.ipynb',\n",
       " 'sample',\n",
       " 'Untitled.ipynb',\n",
       " 'unzipped_ver',\n",
       " 'workspace-1588208870',\n",
       " 'workspace-2-AutomaticMemoryAllocation',\n",
       " 'workspace-4-DynamicMemoryAllocation']"
      ]
     },
     "execution_count": 17,
     "metadata": {},
     "output_type": "execute_result"
    }
   ],
   "source": [
    "os.listdir()"
   ]
  },
  {
   "cell_type": "code",
   "execution_count": 18,
   "metadata": {},
   "outputs": [],
   "source": [
    "file_path = 'C:\\\\Users\\\\Vishaka B\\\\vishaka\\\\unzipped_ver\\\\extracted_content'"
   ]
  },
  {
   "cell_type": "code",
   "execution_count": 19,
   "metadata": {},
   "outputs": [
    {
     "data": {
      "text/plain": [
       "'C:\\\\Users\\\\Vishaka B\\\\vishaka'"
      ]
     },
     "execution_count": 19,
     "metadata": {},
     "output_type": "execute_result"
    }
   ],
   "source": [
    "os.getcwd()"
   ]
  },
  {
   "cell_type": "code",
   "execution_count": 36,
   "metadata": {},
   "outputs": [],
   "source": [
    "results = []"
   ]
  },
  {
   "cell_type": "code",
   "execution_count": 37,
   "metadata": {},
   "outputs": [
    {
     "name": "stdout",
     "output_type": "stream",
     "text": [
      "C:\\Users\\Vishaka B\\vishaka\\unzipped_ver\\extracted_content\\Instructions.txt\n",
      "C:\\Users\\Vishaka B\\vishaka\\unzipped_ver\\extracted_content\\Five\\AEITMYIRQLP.txt\n",
      "C:\\Users\\Vishaka B\\vishaka\\unzipped_ver\\extracted_content\\Five\\APJKSRITGGX.txt\n",
      "C:\\Users\\Vishaka B\\vishaka\\unzipped_ver\\extracted_content\\Five\\AQKATDFGXTS.txt\n",
      "C:\\Users\\Vishaka B\\vishaka\\unzipped_ver\\extracted_content\\Five\\ARLKFCWIAJE.txt\n",
      "C:\\Users\\Vishaka B\\vishaka\\unzipped_ver\\extracted_content\\Five\\AXJGVPVEFAS.txt\n",
      "C:\\Users\\Vishaka B\\vishaka\\unzipped_ver\\extracted_content\\Five\\BNUQEHCFRTG.txt\n",
      "C:\\Users\\Vishaka B\\vishaka\\unzipped_ver\\extracted_content\\Five\\BSKJDRNEZQM.txt\n",
      "C:\\Users\\Vishaka B\\vishaka\\unzipped_ver\\extracted_content\\Five\\BTYWAHLHKBM.txt\n",
      "C:\\Users\\Vishaka B\\vishaka\\unzipped_ver\\extracted_content\\Five\\BUGKBZWRRVI.txt\n",
      "C:\\Users\\Vishaka B\\vishaka\\unzipped_ver\\extracted_content\\Five\\BVBURZZCAPR.txt\n",
      "C:\\Users\\Vishaka B\\vishaka\\unzipped_ver\\extracted_content\\Five\\CAHBEVSVDDN.txt\n",
      "C:\\Users\\Vishaka B\\vishaka\\unzipped_ver\\extracted_content\\Five\\COMGMZBJAYE.txt\n",
      "C:\\Users\\Vishaka B\\vishaka\\unzipped_ver\\extracted_content\\Five\\CRFSDGYFSHA.txt\n",
      "C:\\Users\\Vishaka B\\vishaka\\unzipped_ver\\extracted_content\\Five\\CSCLFZCDYYC.txt\n",
      "C:\\Users\\Vishaka B\\vishaka\\unzipped_ver\\extracted_content\\Five\\CXBVCTRBBIE.txt\n",
      "C:\\Users\\Vishaka B\\vishaka\\unzipped_ver\\extracted_content\\Five\\DDLASODUVPX.txt\n",
      "C:\\Users\\Vishaka B\\vishaka\\unzipped_ver\\extracted_content\\Five\\DHZBAAYEADM.txt\n",
      "C:\\Users\\Vishaka B\\vishaka\\unzipped_ver\\extracted_content\\Five\\DQPZQLBCJYP.txt\n",
      "C:\\Users\\Vishaka B\\vishaka\\unzipped_ver\\extracted_content\\Five\\DYOPIIVMZOO.txt\n",
      "C:\\Users\\Vishaka B\\vishaka\\unzipped_ver\\extracted_content\\Five\\DZUWWXYIAEL.txt\n",
      "C:\\Users\\Vishaka B\\vishaka\\unzipped_ver\\extracted_content\\Five\\EAAOEPSAWMQ.txt\n",
      "C:\\Users\\Vishaka B\\vishaka\\unzipped_ver\\extracted_content\\Five\\EIPWXMQZJKU.txt\n",
      "C:\\Users\\Vishaka B\\vishaka\\unzipped_ver\\extracted_content\\Five\\ESIZWBHMGDP.txt\n",
      "C:\\Users\\Vishaka B\\vishaka\\unzipped_ver\\extracted_content\\Five\\ETCUEXWNBCF.txt\n",
      "C:\\Users\\Vishaka B\\vishaka\\unzipped_ver\\extracted_content\\Five\\EYTCGIOYWIW.txt\n",
      "C:\\Users\\Vishaka B\\vishaka\\unzipped_ver\\extracted_content\\Four\\ECIOBYCDVFI.txt\n",
      "C:\\Users\\Vishaka B\\vishaka\\unzipped_ver\\extracted_content\\Four\\EMTGPSXQEJX.txt\n",
      "C:\\Users\\Vishaka B\\vishaka\\unzipped_ver\\extracted_content\\Four\\EPRNUHRSESC.txt\n",
      "C:\\Users\\Vishaka B\\vishaka\\unzipped_ver\\extracted_content\\Four\\ESDIZXHYCVY.txt\n",
      "C:\\Users\\Vishaka B\\vishaka\\unzipped_ver\\extracted_content\\Four\\EXVQSVBQQQH.txt\n",
      "C:\\Users\\Vishaka B\\vishaka\\unzipped_ver\\extracted_content\\Four\\QCTCKDIBBVG.txt\n",
      "C:\\Users\\Vishaka B\\vishaka\\unzipped_ver\\extracted_content\\Four\\QCWCFLKNZMN.txt\n",
      "C:\\Users\\Vishaka B\\vishaka\\unzipped_ver\\extracted_content\\Four\\QDDETWBHJYC.txt\n",
      "C:\\Users\\Vishaka B\\vishaka\\unzipped_ver\\extracted_content\\Four\\QTDYYIFPHAU.txt\n",
      "C:\\Users\\Vishaka B\\vishaka\\unzipped_ver\\extracted_content\\Four\\QVNJULGXNUM.txt\n",
      "C:\\Users\\Vishaka B\\vishaka\\unzipped_ver\\extracted_content\\Four\\REAXWSOIQDY.txt\n",
      "C:\\Users\\Vishaka B\\vishaka\\unzipped_ver\\extracted_content\\Four\\ROICPTWKXDX.txt\n",
      "C:\\Users\\Vishaka B\\vishaka\\unzipped_ver\\extracted_content\\Four\\RSXOTNGKBML.txt\n",
      "C:\\Users\\Vishaka B\\vishaka\\unzipped_ver\\extracted_content\\Four\\RXDARIDGKBF.txt\n",
      "C:\\Users\\Vishaka B\\vishaka\\unzipped_ver\\extracted_content\\Four\\RYNXFYXMKHG.txt\n",
      "C:\\Users\\Vishaka B\\vishaka\\unzipped_ver\\extracted_content\\Four\\TAKNAVDMZKV.txt\n",
      "C:\\Users\\Vishaka B\\vishaka\\unzipped_ver\\extracted_content\\Four\\THPNEGKTJWI.txt\n",
      "C:\\Users\\Vishaka B\\vishaka\\unzipped_ver\\extracted_content\\Four\\TJFMLJODVAD.txt\n",
      "C:\\Users\\Vishaka B\\vishaka\\unzipped_ver\\extracted_content\\Four\\TKCZSFQNJTX.txt\n",
      "C:\\Users\\Vishaka B\\vishaka\\unzipped_ver\\extracted_content\\Four\\TWUOYFCCYBQ.txt\n",
      "C:\\Users\\Vishaka B\\vishaka\\unzipped_ver\\extracted_content\\Four\\WFSKPTXPFCH.txt\n",
      "C:\\Users\\Vishaka B\\vishaka\\unzipped_ver\\extracted_content\\Four\\WHTOHQUWXIN.txt\n",
      "C:\\Users\\Vishaka B\\vishaka\\unzipped_ver\\extracted_content\\Four\\WNJISWPEBRS.txt\n",
      "C:\\Users\\Vishaka B\\vishaka\\unzipped_ver\\extracted_content\\Four\\WXDJDOGZEHN.txt\n",
      "C:\\Users\\Vishaka B\\vishaka\\unzipped_ver\\extracted_content\\Four\\WYDLGSGGXKV.txt\n",
      "C:\\Users\\Vishaka B\\vishaka\\unzipped_ver\\extracted_content\\One\\HDOHZHFSTTK.txt\n",
      "C:\\Users\\Vishaka B\\vishaka\\unzipped_ver\\extracted_content\\One\\HFUTPPAXDIS.txt\n",
      "C:\\Users\\Vishaka B\\vishaka\\unzipped_ver\\extracted_content\\One\\HMNZTLIFGPD.txt\n",
      "C:\\Users\\Vishaka B\\vishaka\\unzipped_ver\\extracted_content\\One\\HRQFTHKVJTL.txt\n",
      "C:\\Users\\Vishaka B\\vishaka\\unzipped_ver\\extracted_content\\One\\HVUTZEVMSBW.txt\n",
      "C:\\Users\\Vishaka B\\vishaka\\unzipped_ver\\extracted_content\\One\\JDLRVFCXYLU.txt\n",
      "C:\\Users\\Vishaka B\\vishaka\\unzipped_ver\\extracted_content\\One\\JEHBLZPUPSP.txt\n",
      "C:\\Users\\Vishaka B\\vishaka\\unzipped_ver\\extracted_content\\One\\JLTXKIGCWDL.txt\n",
      "C:\\Users\\Vishaka B\\vishaka\\unzipped_ver\\extracted_content\\One\\JQUOBKFUACN.txt\n",
      "C:\\Users\\Vishaka B\\vishaka\\unzipped_ver\\extracted_content\\One\\JTHSNBNPQSE.txt\n",
      "C:\\Users\\Vishaka B\\vishaka\\unzipped_ver\\extracted_content\\One\\KCXGNQCZBLO.txt\n",
      "C:\\Users\\Vishaka B\\vishaka\\unzipped_ver\\extracted_content\\One\\KFIUZFERLET.txt\n",
      "C:\\Users\\Vishaka B\\vishaka\\unzipped_ver\\extracted_content\\One\\KMMLGJOWLGI.txt\n",
      "C:\\Users\\Vishaka B\\vishaka\\unzipped_ver\\extracted_content\\One\\KNBSKDREHQU.txt\n",
      "C:\\Users\\Vishaka B\\vishaka\\unzipped_ver\\extracted_content\\One\\KTXDHIOKAUI.txt\n",
      "C:\\Users\\Vishaka B\\vishaka\\unzipped_ver\\extracted_content\\One\\LDGOCUQJNNS.txt\n",
      "C:\\Users\\Vishaka B\\vishaka\\unzipped_ver\\extracted_content\\One\\LFEATJAAYDC.txt\n",
      "C:\\Users\\Vishaka B\\vishaka\\unzipped_ver\\extracted_content\\One\\LHODFIKVTQA.txt\n",
      "C:\\Users\\Vishaka B\\vishaka\\unzipped_ver\\extracted_content\\One\\LIFDHOFKWOI.txt\n",
      "C:\\Users\\Vishaka B\\vishaka\\unzipped_ver\\extracted_content\\One\\LPNDVDXPZIG.txt\n",
      "C:\\Users\\Vishaka B\\vishaka\\unzipped_ver\\extracted_content\\One\\PDJMSMNKIRM.txt\n",
      "C:\\Users\\Vishaka B\\vishaka\\unzipped_ver\\extracted_content\\One\\PHWAVPEKAER.txt\n",
      "C:\\Users\\Vishaka B\\vishaka\\unzipped_ver\\extracted_content\\One\\PLYCGPVEAWO.txt\n",
      "C:\\Users\\Vishaka B\\vishaka\\unzipped_ver\\extracted_content\\One\\PQNVCVJINAR.txt\n",
      "C:\\Users\\Vishaka B\\vishaka\\unzipped_ver\\extracted_content\\One\\PTOBBCJYURJ.txt\n",
      "C:\\Users\\Vishaka B\\vishaka\\unzipped_ver\\extracted_content\\Three\\VAQIJTDOFUJ.txt\n",
      "C:\\Users\\Vishaka B\\vishaka\\unzipped_ver\\extracted_content\\Three\\VCFJCGJFBIH.txt\n",
      "C:\\Users\\Vishaka B\\vishaka\\unzipped_ver\\extracted_content\\Three\\VSXFSTABZDY.txt\n",
      "C:\\Users\\Vishaka B\\vishaka\\unzipped_ver\\extracted_content\\Three\\VVHFVZUNLOO.txt\n",
      "C:\\Users\\Vishaka B\\vishaka\\unzipped_ver\\extracted_content\\Three\\VVKGWLRMHLU.txt\n",
      "C:\\Users\\Vishaka B\\vishaka\\unzipped_ver\\extracted_content\\Three\\XAJMCPEWFNI.txt\n",
      "C:\\Users\\Vishaka B\\vishaka\\unzipped_ver\\extracted_content\\Three\\XFHJOTNPEJG.txt\n",
      "C:\\Users\\Vishaka B\\vishaka\\unzipped_ver\\extracted_content\\Three\\XHZPVUQTXIO.txt\n",
      "C:\\Users\\Vishaka B\\vishaka\\unzipped_ver\\extracted_content\\Three\\XJCWENFFGHB.txt\n",
      "C:\\Users\\Vishaka B\\vishaka\\unzipped_ver\\extracted_content\\Three\\XVMPVSVYKFR.txt\n",
      "C:\\Users\\Vishaka B\\vishaka\\unzipped_ver\\extracted_content\\Three\\YCESZHJDBXH.txt\n",
      "C:\\Users\\Vishaka B\\vishaka\\unzipped_ver\\extracted_content\\Three\\YDQFMWXOUMW.txt\n",
      "C:\\Users\\Vishaka B\\vishaka\\unzipped_ver\\extracted_content\\Three\\YQBIUHSUEVW.txt\n",
      "C:\\Users\\Vishaka B\\vishaka\\unzipped_ver\\extracted_content\\Three\\YQRNCMNFFHW.txt\n",
      "C:\\Users\\Vishaka B\\vishaka\\unzipped_ver\\extracted_content\\Three\\YYIZGBTQHZP.txt\n",
      "C:\\Users\\Vishaka B\\vishaka\\unzipped_ver\\extracted_content\\Three\\ZEZKKRBIZEB.txt\n",
      "C:\\Users\\Vishaka B\\vishaka\\unzipped_ver\\extracted_content\\Three\\ZKQJXAYKPVD.txt\n",
      "C:\\Users\\Vishaka B\\vishaka\\unzipped_ver\\extracted_content\\Three\\ZOWVXWPOGWP.txt\n",
      "C:\\Users\\Vishaka B\\vishaka\\unzipped_ver\\extracted_content\\Three\\ZXEZRQXZNPG.txt\n",
      "C:\\Users\\Vishaka B\\vishaka\\unzipped_ver\\extracted_content\\Three\\ZXIBJMPROKW.txt\n",
      "C:\\Users\\Vishaka B\\vishaka\\unzipped_ver\\extracted_content\\Two\\GKQBQRCTNNK.txt\n",
      "C:\\Users\\Vishaka B\\vishaka\\unzipped_ver\\extracted_content\\Two\\GMMQQUBMJNR.txt\n",
      "C:\\Users\\Vishaka B\\vishaka\\unzipped_ver\\extracted_content\\Two\\GQTJJORZBXY.txt\n",
      "C:\\Users\\Vishaka B\\vishaka\\unzipped_ver\\extracted_content\\Two\\GTOTCIWMDBY.txt\n",
      "C:\\Users\\Vishaka B\\vishaka\\unzipped_ver\\extracted_content\\Two\\GXYSEPAFRTP.txt\n",
      "C:\\Users\\Vishaka B\\vishaka\\unzipped_ver\\extracted_content\\Two\\HARDNJGDRBC.txt\n",
      "C:\\Users\\Vishaka B\\vishaka\\unzipped_ver\\extracted_content\\Two\\HEORIXOTANT.txt\n",
      "C:\\Users\\Vishaka B\\vishaka\\unzipped_ver\\extracted_content\\Two\\HMUTDOVNYTV.txt\n",
      "C:\\Users\\Vishaka B\\vishaka\\unzipped_ver\\extracted_content\\Two\\HMZXPBOPRAE.txt\n",
      "C:\\Users\\Vishaka B\\vishaka\\unzipped_ver\\extracted_content\\Two\\HTOHSTYXTCO.txt\n",
      "C:\\Users\\Vishaka B\\vishaka\\unzipped_ver\\extracted_content\\Two\\LCJZYDHBFRM.txt\n",
      "C:\\Users\\Vishaka B\\vishaka\\unzipped_ver\\extracted_content\\Two\\LSQSTGPIGIY.txt\n",
      "C:\\Users\\Vishaka B\\vishaka\\unzipped_ver\\extracted_content\\Two\\LULTNYAQEJG.txt\n",
      "C:\\Users\\Vishaka B\\vishaka\\unzipped_ver\\extracted_content\\Two\\LVMBINRBJXL.txt\n",
      "C:\\Users\\Vishaka B\\vishaka\\unzipped_ver\\extracted_content\\Two\\LYZEQCVYNEZ.txt\n",
      "C:\\Users\\Vishaka B\\vishaka\\unzipped_ver\\extracted_content\\Two\\OHZOUOSFJQC.txt\n",
      "C:\\Users\\Vishaka B\\vishaka\\unzipped_ver\\extracted_content\\Two\\OIHMLGMWTHL.txt\n",
      "C:\\Users\\Vishaka B\\vishaka\\unzipped_ver\\extracted_content\\Two\\OKWFOOYTXFU.txt\n",
      "C:\\Users\\Vishaka B\\vishaka\\unzipped_ver\\extracted_content\\Two\\OMWIMVRCMYM.txt\n",
      "C:\\Users\\Vishaka B\\vishaka\\unzipped_ver\\extracted_content\\Two\\OYMAGXAGWHJ.txt\n",
      "C:\\Users\\Vishaka B\\vishaka\\unzipped_ver\\extracted_content\\Two\\SIKFPPLCJDN.txt\n",
      "C:\\Users\\Vishaka B\\vishaka\\unzipped_ver\\extracted_content\\Two\\SJMJLDGPBSJ.txt\n",
      "C:\\Users\\Vishaka B\\vishaka\\unzipped_ver\\extracted_content\\Two\\SOFUJYXTIMK.txt\n"
     ]
    },
    {
     "name": "stdout",
     "output_type": "stream",
     "text": [
      "C:\\Users\\Vishaka B\\vishaka\\unzipped_ver\\extracted_content\\Two\\SPDZYGDHEWO.txt\n",
      "C:\\Users\\Vishaka B\\vishaka\\unzipped_ver\\extracted_content\\Two\\SWOFXREEHWA.txt\n"
     ]
    }
   ],
   "source": [
    "for folder, sub_folders, files in os.walk(file_path):\n",
    "    for f in files:\n",
    "        full_path = folder+'\\\\'+f\n",
    "        print(full_path)\n",
    "        \n",
    "        results.append(search(full_path))\n",
    "    \n",
    "    "
   ]
  },
  {
   "cell_type": "code",
   "execution_count": 39,
   "metadata": {},
   "outputs": [
    {
     "name": "stdout",
     "output_type": "stream",
     "text": [
      "719-266-2837\n"
     ]
    }
   ],
   "source": [
    "for r in results:\n",
    "    if r!= '':\n",
    "        print(r.group())"
   ]
  },
  {
   "cell_type": "code",
   "execution_count": null,
   "metadata": {},
   "outputs": [],
   "source": []
  }
 ],
 "metadata": {
  "kernelspec": {
   "display_name": "Python 3",
   "language": "python",
   "name": "python3"
  },
  "language_info": {
   "codemirror_mode": {
    "name": "ipython",
    "version": 3
   },
   "file_extension": ".py",
   "mimetype": "text/x-python",
   "name": "python",
   "nbconvert_exporter": "python",
   "pygments_lexer": "ipython3",
   "version": "3.7.4"
  }
 },
 "nbformat": 4,
 "nbformat_minor": 2
}
