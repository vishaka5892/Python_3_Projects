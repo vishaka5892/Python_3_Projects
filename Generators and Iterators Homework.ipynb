{
 "cells": [
  {
   "cell_type": "markdown",
   "metadata": {},
   "source": [
    "## Iterators and Generators Homework\n",
    "# Problem 1\n",
    "Create a generator that generates the squares of numbers up to some number N\n"
   ]
  },
  {
   "cell_type": "code",
   "execution_count": 9,
   "metadata": {},
   "outputs": [],
   "source": [
    "def gen_squares(num):\n",
    "    for i in range(num):\n",
    "        yield i**2"
   ]
  },
  {
   "cell_type": "code",
   "execution_count": 10,
   "metadata": {},
   "outputs": [
    {
     "data": {
      "text/plain": [
       "[0, 1, 4, 9, 16]"
      ]
     },
     "execution_count": 10,
     "metadata": {},
     "output_type": "execute_result"
    }
   ],
   "source": [
    "list(gen_squares(5))"
   ]
  },
  {
   "cell_type": "code",
   "execution_count": 13,
   "metadata": {},
   "outputs": [
    {
     "name": "stdout",
     "output_type": "stream",
     "text": [
      "0\n",
      "1\n",
      "4\n",
      "9\n",
      "16\n",
      "25\n",
      "36\n",
      "49\n",
      "64\n",
      "81\n"
     ]
    }
   ],
   "source": [
    "for i in gen_squares(10):\n",
    "    print(i)"
   ]
  },
  {
   "cell_type": "code",
   "execution_count": null,
   "metadata": {},
   "outputs": [],
   "source": []
  },
  {
   "cell_type": "code",
   "execution_count": null,
   "metadata": {},
   "outputs": [],
   "source": []
  },
  {
   "cell_type": "markdown",
   "metadata": {},
   "source": [
    "# Problem 2\n",
    "Create a generator that yields \"n\" random numbers between a low and high number (that are inputs).\n",
    "\n",
    "Note: Use the random library. For example:"
   ]
  },
  {
   "cell_type": "code",
   "execution_count": 14,
   "metadata": {},
   "outputs": [
    {
     "data": {
      "text/plain": [
       "8"
      ]
     },
     "execution_count": 14,
     "metadata": {},
     "output_type": "execute_result"
    }
   ],
   "source": [
    "import random\n",
    "\n",
    "random.randint(1,10)"
   ]
  },
  {
   "cell_type": "code",
   "execution_count": 21,
   "metadata": {},
   "outputs": [],
   "source": [
    "import random\n",
    "\n",
    "def gen_num_rand(low,high,num):\n",
    "    for i in range(num):\n",
    "         yield random.randint(low, high)"
   ]
  },
  {
   "cell_type": "code",
   "execution_count": 25,
   "metadata": {},
   "outputs": [
    {
     "name": "stdout",
     "output_type": "stream",
     "text": [
      "2\n",
      "7\n"
     ]
    }
   ],
   "source": [
    "for num in gen_num_rand(1,10,2):\n",
    "    print(num)"
   ]
  },
  {
   "cell_type": "code",
   "execution_count": null,
   "metadata": {},
   "outputs": [],
   "source": []
  },
  {
   "cell_type": "code",
   "execution_count": null,
   "metadata": {},
   "outputs": [],
   "source": []
  },
  {
   "cell_type": "markdown",
   "metadata": {},
   "source": [
    "# Problem 3\n",
    "Use the iter() function to convert the string below into an iterator:"
   ]
  },
  {
   "cell_type": "code",
   "execution_count": 29,
   "metadata": {},
   "outputs": [
    {
     "name": "stdout",
     "output_type": "stream",
     "text": [
      "h\n"
     ]
    }
   ],
   "source": [
    "s = 'hello'\n",
    "\n",
    "#code here\n",
    "s_iter = iter(s)\n",
    "print(next(s_iter))"
   ]
  },
  {
   "cell_type": "code",
   "execution_count": null,
   "metadata": {},
   "outputs": [],
   "source": []
  },
  {
   "cell_type": "code",
   "execution_count": null,
   "metadata": {},
   "outputs": [],
   "source": []
  },
  {
   "cell_type": "markdown",
   "metadata": {},
   "source": [
    "# Problem 4\n",
    "Explain a use case for a generator using a yield statement where you would not want to use a normal function with a return statement."
   ]
  },
  {
   "cell_type": "code",
   "execution_count": 36,
   "metadata": {},
   "outputs": [],
   "source": [
    "##when there is no need to allocate memory for an entire list if the list is going to be huge and when the list is \n",
    "##only intended to be iterated through, a generator is used.\n",
    "\n",
    "def gen_pow_four(num):\n",
    "    for i in range(num):\n",
    "        yield i**4"
   ]
  },
  {
   "cell_type": "code",
   "execution_count": 35,
   "metadata": {},
   "outputs": [
    {
     "data": {
      "text/plain": [
       "[0,\n",
       " 1,\n",
       " 16,\n",
       " 81,\n",
       " 256,\n",
       " 625,\n",
       " 1296,\n",
       " 2401,\n",
       " 4096,\n",
       " 6561,\n",
       " 10000,\n",
       " 14641,\n",
       " 20736,\n",
       " 28561,\n",
       " 38416,\n",
       " 50625,\n",
       " 65536,\n",
       " 83521,\n",
       " 104976,\n",
       " 130321,\n",
       " 160000,\n",
       " 194481,\n",
       " 234256,\n",
       " 279841,\n",
       " 331776,\n",
       " 390625,\n",
       " 456976,\n",
       " 531441,\n",
       " 614656,\n",
       " 707281,\n",
       " 810000,\n",
       " 923521,\n",
       " 1048576,\n",
       " 1185921,\n",
       " 1336336,\n",
       " 1500625,\n",
       " 1679616,\n",
       " 1874161,\n",
       " 2085136,\n",
       " 2313441,\n",
       " 2560000,\n",
       " 2825761,\n",
       " 3111696,\n",
       " 3418801,\n",
       " 3748096,\n",
       " 4100625,\n",
       " 4477456,\n",
       " 4879681,\n",
       " 5308416,\n",
       " 5764801,\n",
       " 6250000,\n",
       " 6765201,\n",
       " 7311616,\n",
       " 7890481,\n",
       " 8503056,\n",
       " 9150625,\n",
       " 9834496,\n",
       " 10556001,\n",
       " 11316496,\n",
       " 12117361,\n",
       " 12960000,\n",
       " 13845841,\n",
       " 14776336,\n",
       " 15752961,\n",
       " 16777216,\n",
       " 17850625,\n",
       " 18974736,\n",
       " 20151121,\n",
       " 21381376,\n",
       " 22667121,\n",
       " 24010000,\n",
       " 25411681,\n",
       " 26873856,\n",
       " 28398241,\n",
       " 29986576,\n",
       " 31640625,\n",
       " 33362176,\n",
       " 35153041,\n",
       " 37015056,\n",
       " 38950081,\n",
       " 40960000,\n",
       " 43046721,\n",
       " 45212176,\n",
       " 47458321,\n",
       " 49787136,\n",
       " 52200625,\n",
       " 54700816,\n",
       " 57289761,\n",
       " 59969536,\n",
       " 62742241,\n",
       " 65610000,\n",
       " 68574961,\n",
       " 71639296,\n",
       " 74805201,\n",
       " 78074896,\n",
       " 81450625,\n",
       " 84934656,\n",
       " 88529281,\n",
       " 92236816,\n",
       " 96059601]"
      ]
     },
     "execution_count": 35,
     "metadata": {},
     "output_type": "execute_result"
    }
   ],
   "source": [
    "list(gen_pow_four(100))"
   ]
  },
  {
   "cell_type": "code",
   "execution_count": null,
   "metadata": {},
   "outputs": [],
   "source": []
  },
  {
   "cell_type": "code",
   "execution_count": null,
   "metadata": {},
   "outputs": [],
   "source": []
  },
  {
   "cell_type": "markdown",
   "metadata": {},
   "source": [
    "## Extra Credit!\n",
    "Can you explain what gencomp is in the code below? (Not covered in lecture)"
   ]
  },
  {
   "cell_type": "code",
   "execution_count": 41,
   "metadata": {},
   "outputs": [
    {
     "name": "stdout",
     "output_type": "stream",
     "text": [
      "1\n",
      "2\n",
      "3\n"
     ]
    }
   ],
   "source": [
    "my_list = [1,2,3,4,5]\n",
    "\n",
    "gencomp = (item for item in my_list if item <= 3)\n",
    "\n",
    "for item in gencomp:\n",
    "    print(item)"
   ]
  },
  {
   "cell_type": "markdown",
   "metadata": {},
   "source": [
    "*__ANSWER__*: gencomp is a generator comprehension"
   ]
  },
  {
   "cell_type": "code",
   "execution_count": null,
   "metadata": {},
   "outputs": [],
   "source": []
  }
 ],
 "metadata": {
  "kernelspec": {
   "display_name": "Python 3",
   "language": "python",
   "name": "python3"
  },
  "language_info": {
   "codemirror_mode": {
    "name": "ipython",
    "version": 3
   },
   "file_extension": ".py",
   "mimetype": "text/x-python",
   "name": "python",
   "nbconvert_exporter": "python",
   "pygments_lexer": "ipython3",
   "version": "3.7.4"
  }
 },
 "nbformat": 4,
 "nbformat_minor": 2
}
